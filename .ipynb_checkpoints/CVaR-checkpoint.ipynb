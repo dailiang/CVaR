{
 "metadata": {
  "name": "",
  "signature": "sha256:59039d742229369d6825aa3981b34763f6dcf732c9607f5eb56fccf22653ff8c"
 },
 "nbformat": 3,
 "nbformat_minor": 0,
 "worksheets": [
  {
   "cells": [
    {
     "cell_type": "heading",
     "level": 1,
     "metadata": {},
     "source": [
      "\u6536\u76ca\u7387\u7684 Monte Carlo \u4eff\u771f"
     ]
    },
    {
     "cell_type": "code",
     "collapsed": false,
     "input": [],
     "language": "python",
     "metadata": {},
     "outputs": []
    }
   ],
   "metadata": {}
  }
 ]
}